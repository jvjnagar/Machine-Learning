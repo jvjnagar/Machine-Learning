{
  "nbformat": 4,
  "nbformat_minor": 0,
  "metadata": {
    "colab": {
      "provenance": [],
      "authorship_tag": "ABX9TyNq1J8wLRs0Mb464XR/73ZJ",
      "include_colab_link": true
    },
    "kernelspec": {
      "name": "python3",
      "display_name": "Python 3"
    },
    "language_info": {
      "name": "python"
    }
  },
  "cells": [
    {
      "cell_type": "markdown",
      "metadata": {
        "id": "view-in-github",
        "colab_type": "text"
      },
      "source": [
        "<a href=\"https://colab.research.google.com/github/jvjnagar/Machine-Learning/blob/main/ML_Algorihtms.ipynb\" target=\"_parent\"><img src=\"https://colab.research.google.com/assets/colab-badge.svg\" alt=\"Open In Colab\"/></a>"
      ]
    },
    {
      "cell_type": "markdown",
      "source": [
        "**Logistic Regression From Scratch**\n",
        "\n",
        "ref:\n",
        "https://towardsdatascience.com/logistic-regression-from-scratch-in-python-ec66603592e2#:~:text=For%20Linear%20Regression%2C%20we%20had,number%20between%200%20and%201.\n",
        "\n",
        "ref2:\n",
        "https://math.stackexchange.com/questions/2503428/derivative-of-binary-cross-entropy-why-are-my-signs-not-right"
      ],
      "metadata": {
        "id": "J5QOH82OI3Yd"
      }
    },
    {
      "cell_type": "code",
      "execution_count": null,
      "metadata": {
        "id": "t7br9I6NIY7g"
      },
      "outputs": [],
      "source": [
        "import sklearn\n",
        "from sklearn.datasets import make_classification\n",
        "import matplotlib.pyplot as plt\n",
        "import numpy as np"
      ]
    },
    {
      "cell_type": "code",
      "source": [
        "x, y = make_classification(n_features=2, n_redundant=0,\n",
        "                           n_informative=2, random_state=1,\n",
        "                           n_classes=2)\n",
        "plt.scatter(x[:,0], x[:,1])"
      ],
      "metadata": {
        "colab": {
          "base_uri": "https://localhost:8080/",
          "height": 448
        },
        "id": "YAIJlfQWKWEq",
        "outputId": "2b46f90b-835c-48e6-f0a3-0f75d5d55c6b"
      },
      "execution_count": null,
      "outputs": [
        {
          "output_type": "execute_result",
          "data": {
            "text/plain": [
              "<matplotlib.collections.PathCollection at 0x7fa9850c44c0>"
            ]
          },
          "metadata": {},
          "execution_count": 29
        },
        {
          "output_type": "display_data",
          "data": {
            "text/plain": [
              "<Figure size 640x480 with 1 Axes>"
            ],
            "image/png": "[encoded data removed]"
          },
          "metadata": {}
        }
      ]
    },
    {
      "cell_type": "code",
      "source": [
        "##### z = w.x + b #####\n",
        "def sigmoid(z):\n",
        "  return 1.0/(1.0 + np.exp(-z))\n",
        "\n",
        "##### cost function, binary cross entropy ####\n",
        "def loss(y, y_hat):\n",
        "  loss = -np.mean(y*np.log(y_hat) - (1-y)*np.log(1-y_hat))\n",
        "  return loss\n",
        "\n",
        "##### gradient decent ####\n",
        "\n",
        "def gradient(x,y, y_hat ):\n",
        "    # x --> Input.\n",
        "    # y --> true/target value.\n",
        "    # y_hat --> hypothesis/predictions.\n",
        "    # w --> weights (parameter).\n",
        "    # b --> bias (parameter).\n",
        "\n",
        "    # m-> number of training examples.\n",
        "\n",
        "    m = x.shape[0]\n",
        "    dw = 1/m*np.dot(x.T, (y_hat-y))\n",
        "    db = 1/m*np.sum(y_hat-y)\n",
        "    return dw, db\n",
        "\n",
        "def normalize(x):\n",
        "  for i in range(x.shape[1]):\n",
        "    x[:,i] = (x[:,i]-x[:,i].mean(axis=0))/x[:,i].std(axis=0)\n",
        "  return x\n",
        "\n",
        "def train(x, y, bs, epochs, lr):\n",
        "  m,n = x.shape\n",
        "  ## initialization of weights\n",
        "  w = np.zeros((n,1))\n",
        "  b = 0\n",
        "\n",
        "  ### normalize the data\n",
        "  x = normalize(x)\n",
        "\n",
        "  # Empty list to store losses.\n",
        "  losses = []\n",
        "  for epoch in range(epochs):\n",
        "    for i in range((m-1)//bs+1):\n",
        "      start_i = i*bs\n",
        "      end_i = (i+1)*bs\n",
        "      Xbs = x[start_i:end_i]\n",
        "      Ybs = y[start_i:end_i]\n",
        "      z = np.dot(Xbs,w) + b\n",
        "      Y_hat = sigmoid(z)\n",
        "      dw, db = gradient(Xbs,Ybs, Y_hat )\n",
        "      w -= lr*dw\n",
        "      b -= lr*\n",
        "\n",
        "    loss = loss(y, sigmoid(np.dot(x, w)+b))\n",
        "    losses.append(loss)\n",
        "  return w, b, losses"
      ],
      "metadata": {
        "colab": {
          "base_uri": "https://localhost:8080/",
          "height": 135
        },
        "id": "XDEQggysOb6j",
        "outputId": "e9bccbbc-32df-4adf-d50e-728d2dcbb655"
      },
      "execution_count": null,
      "outputs": [
        {
          "output_type": "error",
          "ename": "SyntaxError",
          "evalue": "ignored",
          "traceback": [
            "\u001b[0;36m  File \u001b[0;32m\"<ipython-input-45-2efcbc162245>\"\u001b[0;36m, line \u001b[0;32m31\u001b[0m\n\u001b[0;31m    def train():\u001b[0m\n\u001b[0m                ^\u001b[0m\n\u001b[0;31mSyntaxError\u001b[0m\u001b[0;31m:\u001b[0m incomplete input\n"
          ]
        }
      ]
    },
    {
      "cell_type": "code",
      "source": [
        "def predict(x, w,b ):\n",
        "  x = normalize(x)\n",
        "  y_pred = sigmoid(np.dot(x,w)+b)\n",
        "  pred_class = []\n",
        "  pred_class = [1 if i > 0.5 else 0 for i in y_pred]\n",
        "  return np.array(pred_class)"
      ],
      "metadata": {
        "colab": {
          "base_uri": "https://localhost:8080/"
        },
        "id": "TQGda94CQZKM",
        "outputId": "aa5e1111-ded4-4ceb-d274-1fa50945d43c"
      },
      "execution_count": null,
      "outputs": [
        {
          "output_type": "stream",
          "name": "stdout",
          "text": [
            "[[ 1.30022717 -0.7856539 ]\n",
            " [ 1.44184425 -0.56008554]\n",
            " [-0.84792445 -1.36621324]\n",
            " [-0.72215015 -1.41129414]\n",
            " [-1.27221465  0.25945106]\n",
            " [ 0.78694271  0.94294879]\n",
            " [ 0.81695766 -1.12478707]\n",
            " [ 1.6822707  -0.67596877]\n",
            " [-1.07223343 -0.7701513 ]\n",
            " [-0.06539297  1.11257376]\n",
            " [-1.33232952  0.60245671]\n",
            " [-0.6963714   0.96382716]\n",
            " [ 0.82340614  0.7561926 ]\n",
            " [-1.5155534  -0.15804853]\n",
            " [-0.78971776  1.70347973]\n",
            " [ 0.85887841  1.04457966]\n",
            " [-0.45001335  0.27345841]\n",
            " [ 0.7099324   0.69020919]\n",
            " [-0.79095935  1.60495551]\n",
            " [-1.08077536 -1.15530746]\n",
            " [-1.5691733  -0.54054806]\n",
            " [-0.52568843  1.52568161]\n",
            " [-1.27406042 -0.1434304 ]\n",
            " [ 0.89621114 -1.11509679]\n",
            " [-0.85259895 -1.42554982]\n",
            " [-0.63262806  1.2217558 ]\n",
            " [-0.86447712 -1.40921978]\n",
            " [-0.47819102  3.17462483]\n",
            " [-1.25230004 -0.57685918]\n",
            " [-0.84475639 -1.44303438]\n",
            " [ 1.07510938 -1.00137091]\n",
            " [-0.95126327  0.9659913 ]\n",
            " [-1.09530458  1.23965215]\n",
            " [ 0.48229726  1.62411168]\n",
            " [-0.502186    2.05132133]\n",
            " [-1.54398637  0.01188478]\n",
            " [-1.08864222 -0.85261295]\n",
            " [-0.90131654 -0.96654311]\n",
            " [ 1.69606253  0.2914725 ]\n",
            " [ 1.12018826 -1.24017985]\n",
            " [ 1.06080576  0.58530898]\n",
            " [-1.4424493   0.2768457 ]\n",
            " [-0.70726877 -1.75151751]\n",
            " [ 1.04984745  0.18471318]\n",
            " [ 1.33139049 -0.66176572]\n",
            " [ 0.651448   -1.21037691]\n",
            " [-0.95710526 -1.01412185]\n",
            " [ 1.50284911  0.18387793]\n",
            " [-1.01103813  1.66092093]\n",
            " [ 0.24305711 -1.56629795]\n",
            " [-0.40394191  1.94981005]\n",
            " [-1.51594823 -0.02488133]\n",
            " [ 0.75221692 -1.09094359]\n",
            " [-1.10325445 -0.70158632]\n",
            " [-1.02489651  1.25959039]\n",
            " [-0.76070629 -1.49363676]\n",
            " [-0.67325919 -1.78962393]\n",
            " [ 0.56574606 -1.25127924]\n",
            " [ 1.11298159 -0.90801871]\n",
            " [ 1.16188579  0.50520809]\n",
            " [ 0.68064537 -1.20440239]\n",
            " [-1.47955308  0.04255402]\n",
            " [ 0.48134584 -0.44632785]\n",
            " [ 0.92116205 -1.07020755]\n",
            " [-1.1068686   1.71718559]\n",
            " [ 0.32953519  1.34104147]\n",
            " [ 0.94913223  1.11955768]\n",
            " [ 0.8756767   0.76529832]\n",
            " [-1.18951588  0.38360693]\n",
            " [-1.36910947 -0.17113665]\n",
            " [-1.01015351  0.85809225]\n",
            " [-1.66153635  0.46339315]\n",
            " [ 0.98173251 -0.91625701]\n",
            " [ 0.82300836 -1.06633261]\n",
            " [ 0.51027603 -1.3812928 ]\n",
            " [ 1.04541272 -0.92751156]\n",
            " [-0.85436664  1.92296129]\n",
            " [-0.71572893 -1.63971434]\n",
            " [ 0.6486895   1.2600083 ]\n",
            " [ 0.7185152  -1.31918161]\n",
            " [ 0.85565037 -0.99134803]\n",
            " [ 1.01737804 -1.06220957]\n",
            " [-0.78702113  0.89352558]\n",
            " [ 1.63147164  1.10755772]\n",
            " [ 0.62577573 -1.24174887]\n",
            " [-0.62679113 -1.73440213]\n",
            " [ 0.63378314  0.28733318]\n",
            " [ 0.91533271  0.85370495]\n",
            " [ 1.37320248  1.6689382 ]\n",
            " [-1.31610584 -0.63788135]\n",
            " [-0.95543218 -1.18054667]\n",
            " [ 0.67697979 -1.0689833 ]\n",
            " [ 1.38216805 -0.49634539]\n",
            " [-0.30121926  1.71834622]\n",
            " [ 2.14957042 -0.3114632 ]\n",
            " [ 0.94046067 -1.10029918]\n",
            " [-0.84521171  1.66086437]\n",
            " [-1.42368943  0.39184587]\n",
            " [ 0.9825172   0.33847597]\n",
            " [-1.29401108 -0.54922692]]\n"
          ]
        }
      ]
    }
  ]
}